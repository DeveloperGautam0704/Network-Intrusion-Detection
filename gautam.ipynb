{
 "cells": [
  {
   "cell_type": "code",
   "execution_count": null,
   "metadata": {},
   "outputs": [],
   "source": [
    "%pip install numpy pandas seaborn matplotlib scikit-learn lightgbm xgboost tabulate"
   ]
  },
  {
   "cell_type": "code",
   "execution_count": null,
   "metadata": {},
   "outputs": [],
   "source": [
    "import pandas as pd\n",
    "from sklearn.model_selection import train_test_split\n",
    "from sklearn.preprocessing import LabelEncoder\n",
    "from sklearn.tree import DecisionTreeClassifier\n",
    "from sklearn.metrics import accuracy_score, classification_report\n",
    "import seaborn as sns\n",
    "import matplotlib.pyplot as plt\n",
    "from sklearn.neighbors import KNeighborsClassifier\n",
    "from sklearn.linear_model import LogisticRegression"
   ]
  },
  {
   "cell_type": "code",
   "execution_count": null,
   "metadata": {},
   "outputs": [],
   "source": [
    "df = pd.read_csv('Train_data.csv')\n",
    "df "
   ]
  },
  {
   "cell_type": "code",
   "execution_count": null,
   "metadata": {},
   "outputs": [],
   "source": [
    "df.head()"
   ]
  },
  {
   "cell_type": "code",
   "execution_count": null,
   "metadata": {},
   "outputs": [],
   "source": [
    "df.tail()\n"
   ]
  },
  {
   "cell_type": "code",
   "execution_count": null,
   "metadata": {},
   "outputs": [],
   "source": [
    "#df. shape returns a tuple representing the dimensionality of the Data Frame.\n",
    "df.shape"
   ]
  },
  {
   "cell_type": "code",
   "execution_count": null,
   "metadata": {},
   "outputs": [],
   "source": [
    "df.info()"
   ]
  },
  {
   "cell_type": "code",
   "execution_count": null,
   "metadata": {},
   "outputs": [],
   "source": [
    "df.isnull().sum()"
   ]
  },
  {
   "cell_type": "code",
   "execution_count": null,
   "metadata": {},
   "outputs": [],
   "source": [
    "df.min()"
   ]
  },
  {
   "cell_type": "code",
   "execution_count": null,
   "metadata": {},
   "outputs": [],
   "source": [
    "df.max()"
   ]
  },
  {
   "cell_type": "code",
   "execution_count": null,
   "metadata": {},
   "outputs": [],
   "source": [
    "df.duplicated().sum()"
   ]
  },
  {
   "cell_type": "code",
   "execution_count": null,
   "metadata": {},
   "outputs": [],
   "source": [
    "df.count()"
   ]
  },
  {
   "cell_type": "code",
   "execution_count": null,
   "metadata": {},
   "outputs": [],
   "source": [
    "df.describe()"
   ]
  },
  {
   "cell_type": "code",
   "execution_count": null,
   "metadata": {},
   "outputs": [],
   "source": [
    "plt.figure(figsize=(5, 3))\n",
    "sns.countplot(x=df['class'])"
   ]
  },
  {
   "cell_type": "code",
   "execution_count": null,
   "metadata": {},
   "outputs": [],
   "source": [
    "# Encode categorical variables in features\n",
    "X = df.drop('class', axis=1)  # Features (independent variables)\n",
    "Y = df['class']  # Target variable (dependent variable)"
   ]
  },
  {
   "cell_type": "code",
   "execution_count": null,
   "metadata": {},
   "outputs": [],
   "source": [
    "\n",
    "# One-hot encode categorical features\n",
    "X_encoded = pd.get_dummies(X, columns=['protocol_type', 'service', 'flag'], drop_first=True)"
   ]
  },
  {
   "cell_type": "code",
   "execution_count": null,
   "metadata": {},
   "outputs": [],
   "source": [
    "# Encode the target variable (ensure correct mapping)\n",
    "label_encoder = LabelEncoder()\n",
    "y_encoded = label_encoder.fit_transform(Y)"
   ]
  },
  {
   "cell_type": "code",
   "execution_count": null,
   "metadata": {},
   "outputs": [],
   "source": [
    "\n",
    "# Split the data into training and test sets\n",
    "X_train, X_test, y_train, y_test = train_test_split(X_encoded, y_encoded, test_size=0.3, random_state=42)\n"
   ]
  },
  {
   "cell_type": "code",
   "execution_count": null,
   "metadata": {},
   "outputs": [],
   "source": [
    "# Initializing all the three models \n",
    "knn = KNeighborsClassifier(n_neighbors=5)\n",
    "logreg = LogisticRegression(max_iter=1000)\n",
    "decision_tree = DecisionTreeClassifier(random_state=42)\n",
    "\n",
    "# Fitting all the above models \n",
    "knn.fit(X_train, y_train)\n",
    "logreg.fit(X_train, y_train)\n",
    "decision_tree.fit(X_train, y_train)\n",
    "\n",
    "# Predicting the target variable for all the above models\n",
    "knn_pred = knn.predict(X_test)\n",
    "logreg_pred = logreg.predict(X_test)\n",
    "decision_tree_pred = decision_tree.predict(X_test)\n",
    "\n",
    "# Calculating the accuracy of all the above models \n",
    "knn_accuracy = accuracy_score(y_test, knn_pred)\n",
    "logreg_accuracy = accuracy_score(y_test, logreg_pred)\n",
    "decision_tree_accuracy = accuracy_score(y_test, decision_tree_pred)"
   ]
  },
  {
   "cell_type": "code",
   "execution_count": null,
   "metadata": {},
   "outputs": [],
   "source": [
    "# No we are printing the accuracy of all the models\n",
    "print(f\"KNN Accuracy: {knn_accuracy}\")\n",
    "print(f\"Logistic Regression Accuracy: {logreg_accuracy}\")\n",
    "print(f\"Decision Tree Accuracy: {decision_tree_accuracy}\")"
   ]
  },
  {
   "cell_type": "code",
   "execution_count": null,
   "metadata": {},
   "outputs": [],
   "source": [
    "# Showing accuracy of all the model in bar graph\n",
    "models = ['KNN', 'Logistic Regression', 'Decision Tree']\n",
    "accuracy = [knn_accuracy, logreg_accuracy, decision_tree_accuracy]\n",
    "\n",
    "# No plotting the bar graph\n",
    "plt.figure(figsize=(5, 3))\n",
    "plt.bar(models, accuracy, color=['blue', 'red', 'green'])\n",
    "plt.xlabel('Models')\n",
    "plt.ylabel('Accuracy')\n",
    "plt.title('Accuracy of different models')\n",
    "plt.ylim(0.7, 1)\n",
    "plt.show()"
   ]
  },
  {
   "cell_type": "markdown",
   "metadata": {},
   "source": []
  },
  {
   "cell_type": "code",
   "execution_count": null,
   "metadata": {},
   "outputs": [],
   "source": [
    "# Here we will use the Decision Tree model to predict the target variable because it has the highest accuracy\n",
    "\n",
    "# Initialize the Decision Tree model\n",
    "model = DecisionTreeClassifier(random_state=42)\n",
    "\n",
    "# Fit the model with the training data\n",
    "model.fit(X_train, y_train)\n",
    "\n",
    "# predict the target on the training dataset\n",
    "predictions = model.predict(X_train)\n",
    "\n",
    "# Accuracy Score on the training dataset\n",
    "accuracy = accuracy_score(y_train, predictions)\n",
    "print(f\"Accuracy score on training dataset: {accuracy}\")\n",
    "print(classification_report(y_train, predictions))\n",
    "\n",
    "\n",
    "# Predict the target on the test dataset\n",
    "predictions = model.predict(X_test)\n",
    "\n",
    "# Accuracy Score on the test dataset\n",
    "accuracy = accuracy_score(y_test, predictions)\n",
    "print(f\"Accuracy score on test dataset: {accuracy}\")\n",
    "print(classification_report(y_test, predictions))"
   ]
  },
  {
   "cell_type": "code",
   "execution_count": null,
   "metadata": {},
   "outputs": [],
   "source": [
    "# Example: Predict the class for a new input\n",
    "def predict_user_input():\n",
    "    # Collect user input for all features used during training\n",
    "    duration = int(input(\"Enter the duration: \"))\n",
    "    protocol_type = str(input(\"Enter the protocol type: \"))\n",
    "    service = str(input(\"Enter the service: \"))#0,tcp,ftp_data,SF,491,0,0,0,0,0,0,0,0,0,0,0,0,0   1.) normal \n",
    "    flag = str(input(\"Enter the flag: \"))#0,tcp,remote_job,S0,0,0,0,0,0,0,0,0,0,0,0,0,0,0,0,     10.) anomaly\n",
    "    src_bytes = int(input(\"Enter the source bytes: \"))#0,tcp,ftp_data,S0,0,0,0,0,0,0,0,0,0,0,0,0,0,0,0,0,0,0,258,17,1,1,0,0,0.07,0.05,0,255,5,0.02,0.07,0,0,1,1,0,0,anomaly\n",
    "    dst_bytes = int(input(\"Enter the destination bytes: \"))# 0,tcp,finger,S0,0,0,0,0,0,0,0,0,0,0,0,0,0,0,0,0,0,0,24,12,1,1,0,0,0.5,0.08,0,255,59,0.23,0.04,0,0,1,1,0,0,anomaly    60.)\n",
    "    land = int(input(\"Enter the land: \"))# 38,tcp,ftp,SF,1441,4152,0,0,0,30,0,1,0,0,0,0,0,0,0,0,0,1,1,1,0,0,0,0,1,0,0,166,27,0.16,0.02,0.01,0,0.01,0,0,0,normal    18904.)\n",
    "    wrong_fragment = int(input(\"Enter the wrong fragment: \"))\n",
    "    urgent = int(input(\"Enter the urgent: \"))\n",
    "    hot = int(input(\"Enter the hot: \"))\n",
    "    num_failed_logins = int(input(\"Enter the number of failed logins: \"))\n",
    "    logged_in = int(input(\"Enter the logged in: \"))\n",
    "    num_compromised = int(input(\"Enter the number of compromised: \")) # 0,icmp,eco_i,SF,20,0,0,0,0,0,0,0,0,0,0,\n",
    "    # Include other features if necessary\n",
    "\n",
    "\n",
    "    # Create a DataFrame for the input data    \n",
    "    input_data = pd.DataFrame({\n",
    "        'duration': [duration],\n",
    "        'protocol_type': [protocol_type],\n",
    "        'service': [service],\n",
    "        'flag': [flag],\n",
    "        'src_bytes': [src_bytes],\n",
    "        'dst_bytes': [dst_bytes],\n",
    "        'land': [land],\n",
    "        'wrong_fragment': [wrong_fragment],\n",
    "        'urgent': [urgent],\n",
    "        'hot': [hot],\n",
    "        'num_failed_logins': [num_failed_logins],\n",
    "        'logged_in': [logged_in],\n",
    "        'num_compromised': [num_compromised]\n",
    "    })\n",
    "\n",
    "     # One-hot encode the input data to match the training data's format\n",
    "    input_data_encoded = pd.get_dummies(input_data,columns=['protocol_type', 'service', 'flag'], drop_first=True)\n",
    "\n",
    "    # Align the columns with the training data (X_train_encoded)\n",
    "    input_data_encoded = input_data_encoded.reindex(columns=X_train.columns, fill_value=0)\n",
    "\n",
    "    # Predict the output using the trained model\n",
    "    prediction = model.predict(input_data_encoded)\n",
    "\n",
    "    # Decode the prediction back to the original class names\n",
    "    predicted_class = label_encoder.inverse_transform(prediction)\n",
    "\n",
    "    # Print the prediction result\n",
    "    print(f\"Predicted value for network attack: {predicted_class[0]}\")\n",
    "\n",
    "# Call the function to predict based on user input\n",
    "predict_user_input()\n"
   ]
  },
  {
   "cell_type": "code",
   "execution_count": null,
   "metadata": {},
   "outputs": [],
   "source": []
  },
  {
   "cell_type": "code",
   "execution_count": null,
   "metadata": {},
   "outputs": [],
   "source": []
  },
  {
   "cell_type": "code",
   "execution_count": null,
   "metadata": {},
   "outputs": [],
   "source": []
  },
  {
   "cell_type": "code",
   "execution_count": null,
   "metadata": {},
   "outputs": [],
   "source": []
  },
  {
   "cell_type": "code",
   "execution_count": null,
   "metadata": {},
   "outputs": [],
   "source": []
  },
  {
   "cell_type": "code",
   "execution_count": null,
   "metadata": {},
   "outputs": [],
   "source": []
  },
  {
   "cell_type": "code",
   "execution_count": null,
   "metadata": {},
   "outputs": [],
   "source": []
  },
  {
   "cell_type": "code",
   "execution_count": null,
   "metadata": {},
   "outputs": [],
   "source": []
  },
  {
   "cell_type": "code",
   "execution_count": null,
   "metadata": {},
   "outputs": [],
   "source": []
  },
  {
   "cell_type": "code",
   "execution_count": null,
   "metadata": {},
   "outputs": [],
   "source": []
  },
  {
   "cell_type": "code",
   "execution_count": null,
   "metadata": {},
   "outputs": [],
   "source": []
  },
  {
   "cell_type": "code",
   "execution_count": null,
   "metadata": {},
   "outputs": [],
   "source": []
  },
  {
   "cell_type": "code",
   "execution_count": null,
   "metadata": {},
   "outputs": [],
   "source": []
  },
  {
   "cell_type": "code",
   "execution_count": null,
   "metadata": {},
   "outputs": [],
   "source": []
  },
  {
   "cell_type": "code",
   "execution_count": null,
   "metadata": {},
   "outputs": [],
   "source": []
  }
 ],
 "metadata": {
  "kernelspec": {
   "display_name": "Python 3",
   "language": "python",
   "name": "python3"
  },
  "language_info": {
   "codemirror_mode": {
    "name": "ipython",
    "version": 3
   },
   "file_extension": ".py",
   "mimetype": "text/x-python",
   "name": "python",
   "nbconvert_exporter": "python",
   "pygments_lexer": "ipython3",
   "version": "3.12.3"
  }
 },
 "nbformat": 4,
 "nbformat_minor": 2
}
